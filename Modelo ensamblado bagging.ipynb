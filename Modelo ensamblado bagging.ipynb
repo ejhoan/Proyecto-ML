{
 "cells": [
  {
   "cell_type": "code",
   "execution_count": 1,
   "id": "56398dc0",
   "metadata": {},
   "outputs": [],
   "source": [
    "# Importar librerías\n",
    "import pandas as pd\n",
    "import numpy as np\n",
    "import matplotlib.pyplot as plt\n",
    "import joblib\n",
    "import xgboost as xg\n",
    "from sklearn.svm import SVR\n",
    "from sklearn import preprocessing\n",
    "from datetime import datetime as dt\n",
    "from sklearn.model_selection import train_test_split, GroupKFold, cross_val_score, GridSearchCV\n",
    "from sklearn.metrics import mean_absolute_error\n",
    "from functools import partial\n",
    "from hyperopt import hp, fmin, tpe, Trials, STATUS_OK, space_eval\n",
    "from hyperopt.pyll import scope as ho_scope\n",
    "from sklearn.ensemble import BaggingRegressor\n",
    "from sklearn.ensemble import GradientBoostingRegressor\n",
    "from sklearn.linear_model import LinearRegression\n",
    "from sklearn.ensemble import RandomForestRegressor\n",
    "from sklearn.tree import DecisionTreeRegressor "
   ]
  },
  {
   "cell_type": "code",
   "execution_count": 2,
   "id": "37282026",
   "metadata": {},
   "outputs": [],
   "source": [
    "# Importar la data\n",
    "data = pd.read_csv('data.csv')"
   ]
  },
  {
   "cell_type": "code",
   "execution_count": 3,
   "id": "d98b9d00",
   "metadata": {},
   "outputs": [],
   "source": [
    "x = data.drop('actual_productivity', axis=1)\n",
    "y = data['actual_productivity']\n",
    "\n",
    "scaler = preprocessing.StandardScaler().fit(x)\n",
    "x_scaled = scaler.transform(x)\n",
    "\n",
    "x_train, x_test, y_train, y_test = train_test_split(x_scaled, y, test_size=127, random_state=10)"
   ]
  },
  {
   "cell_type": "markdown",
   "id": "9ecfad41",
   "metadata": {},
   "source": [
    "### Modelo simple"
   ]
  },
  {
   "cell_type": "code",
   "execution_count": 4,
   "id": "2879bcd9",
   "metadata": {},
   "outputs": [
    {
     "data": {
      "text/plain": [
       "BaggingRegressor(random_state=10)"
      ]
     },
     "execution_count": 4,
     "metadata": {},
     "output_type": "execute_result"
    }
   ],
   "source": [
    "# Definir el modelo ensamblado usando bagging\n",
    "ensamble_bag = BaggingRegressor(random_state=10)\n",
    "\n",
    "ensamble_bag.fit(x_train, y_train)"
   ]
  },
  {
   "cell_type": "code",
   "execution_count": 5,
   "id": "91814597",
   "metadata": {},
   "outputs": [
    {
     "name": "stdout",
     "output_type": "stream",
     "text": [
      "Parámetros por defecto del modelo:\n",
      "\n",
      "{'base_estimator': None, 'bootstrap': True, 'bootstrap_features': False, 'max_features': 1.0, 'max_samples': 1.0, 'n_estimators': 10, 'n_jobs': None, 'oob_score': False, 'random_state': 10, 'verbose': 0, 'warm_start': False}\n"
     ]
    }
   ],
   "source": [
    "# Los parámetros que el modelo utiliza son\n",
    "\n",
    "print('Parámetros por defecto del modelo:\\n')\n",
    "print(ensamble_bag.get_params())"
   ]
  },
  {
   "cell_type": "code",
   "execution_count": 6,
   "id": "2c0a725e",
   "metadata": {},
   "outputs": [],
   "source": [
    "start = dt.now()\n",
    "# Ajustar el modelo al conjunto de datos de entrenamiento\n",
    "ensamble_bag.fit(x_train, y_train)\n",
    "end = dt.now()"
   ]
  },
  {
   "cell_type": "code",
   "execution_count": 7,
   "id": "3b309f57",
   "metadata": {},
   "outputs": [
    {
     "data": {
      "text/plain": [
       "0"
      ]
     },
     "execution_count": 7,
     "metadata": {},
     "output_type": "execute_result"
    }
   ],
   "source": [
    "# Tiempo que se requiere para ajustar el modelo\n",
    "(end - start).seconds"
   ]
  },
  {
   "cell_type": "code",
   "execution_count": 8,
   "id": "f0f6f2df",
   "metadata": {},
   "outputs": [],
   "source": [
    "# Valores predichos por el modelo\n",
    "y_pred_train = ensamble_bag.predict(x_train)\n",
    "y_pred_test = ensamble_bag.predict(x_test)\n",
    "\n",
    "# Calcular el error para el conjunto de entrenamiento y prueba\n",
    "error_train = mean_absolute_error(y_train, y_pred_train)\n",
    "error_test = mean_absolute_error(y_test, y_pred_test)"
   ]
  },
  {
   "cell_type": "code",
   "execution_count": 9,
   "id": "e3329a0a",
   "metadata": {},
   "outputs": [
    {
     "name": "stdout",
     "output_type": "stream",
     "text": [
      "MAE del conjunto de entrenamiento: 0.0295142\n",
      "MAE del conjunto de prueba: 0.0787753\n"
     ]
    }
   ],
   "source": [
    "# Se observa al aplicar un modelo ensamble con bagging con sus parámetros por defecto\n",
    "# el MAE para el conjunto de entrenamiento es de 0.0295 y en el conjunto de pruebas es de 0.07878\n",
    "\n",
    "print('MAE del conjunto de entrenamiento: {:.7f}'.format(error_train))\n",
    "print('MAE del conjunto de prueba: {:.7f}'.format(error_test))"
   ]
  },
  {
   "cell_type": "markdown",
   "id": "bd076a87",
   "metadata": {},
   "source": [
    "### Modelo con ajuste de hiper parámetros"
   ]
  },
  {
   "cell_type": "code",
   "execution_count": 23,
   "id": "c67b2194",
   "metadata": {},
   "outputs": [],
   "source": [
    "# estimators = [\n",
    "#      ('SVM', SVR(kernel='rbf')),\n",
    "#      ('REG', LinearRegression()),\n",
    "#      ('RANDOM_FOREST', RandomForestRegressor(criterion='absolute_error', bootstrap=False)),\n",
    "#      ('XGBOOST', xg.XGBRegressor(eval_metric='mae'))\n",
    "# ]\n",
    "\n",
    "# estimators = [SVR(kernel='rbf')\n",
    "#     , LinearRegression()\n",
    "#     , RandomForestRegressor(criterion='absolute_error', bootstrap=False)\n",
    "#     , xg.XGBRegressor(eval_metric='mae')\n",
    "#     , DecisionTreeRegressor(criterion='mae')\n",
    "# ]"
   ]
  },
  {
   "cell_type": "markdown",
   "id": "a587c312",
   "metadata": {},
   "source": [
    "#### Grid search"
   ]
  },
  {
   "cell_type": "code",
   "execution_count": 10,
   "id": "d5ec7628",
   "metadata": {},
   "outputs": [],
   "source": [
    "# Crear la grilla de parámetros\n",
    "param_grid = {\n",
    "    'bootstrap': [True, False]\n",
    "    , 'n_estimators': [10, 20, 30, 50, 100]\n",
    "    , 'max_features': [1, 5, 10, 20, 25, 30]\n",
    "    , 'max_samples': [1, 5, 10, 20, 25, 30]\n",
    "}"
   ]
  },
  {
   "cell_type": "code",
   "execution_count": 25,
   "id": "29d362e7",
   "metadata": {},
   "outputs": [],
   "source": [
    "# Definir el modelo de ensamble\n",
    "ensamble_bag = BaggingRegressor(random_state=10)"
   ]
  },
  {
   "cell_type": "code",
   "execution_count": 26,
   "id": "0aecd666",
   "metadata": {},
   "outputs": [],
   "source": [
    "grid_search = GridSearchCV(estimator = ensamble_bag\n",
    "             , param_grid = param_grid\n",
    "             , cv = 10\n",
    "             , n_jobs = -1)"
   ]
  },
  {
   "cell_type": "code",
   "execution_count": 72,
   "id": "ea63bbe3",
   "metadata": {},
   "outputs": [],
   "source": [
    "start = dt.now()\n",
    "grid_search.fit(x_train, y_train)\n",
    "end = dt.now()"
   ]
  },
  {
   "cell_type": "code",
   "execution_count": 73,
   "id": "7f4affcd",
   "metadata": {},
   "outputs": [
    {
     "data": {
      "text/plain": [
       "0"
      ]
     },
     "execution_count": 73,
     "metadata": {},
     "output_type": "execute_result"
    }
   ],
   "source": [
    "# Tiempo que se requiere para ajustar el modelo\n",
    "(end - start).seconds"
   ]
  },
  {
   "cell_type": "code",
   "execution_count": 74,
   "id": "0866d7c6",
   "metadata": {},
   "outputs": [
    {
     "data": {
      "text/plain": [
       "{'bootstrap': True, 'max_features': 1, 'max_samples': 1, 'n_estimators': 10}"
      ]
     },
     "execution_count": 74,
     "metadata": {},
     "output_type": "execute_result"
    }
   ],
   "source": [
    "grid_search.best_params_"
   ]
  },
  {
   "cell_type": "code",
   "execution_count": 75,
   "id": "6e43dcd4",
   "metadata": {},
   "outputs": [],
   "source": [
    "best_grid = grid_search.best_estimator_"
   ]
  },
  {
   "cell_type": "code",
   "execution_count": 76,
   "id": "b9ece296",
   "metadata": {},
   "outputs": [
    {
     "data": {
      "text/plain": [
       "['resultados/ensamble_bag_grid.pkl']"
      ]
     },
     "execution_count": 76,
     "metadata": {},
     "output_type": "execute_result"
    }
   ],
   "source": [
    "joblib.dump(best_grid, 'resultados/ensamble_bag_grid.pkl')"
   ]
  },
  {
   "cell_type": "code",
   "execution_count": 77,
   "id": "d2134079",
   "metadata": {},
   "outputs": [],
   "source": [
    "# Valores predichos por el modelo\n",
    "y_pred_train_grid = best_grid.predict(x_train)\n",
    "y_pred_test_grid = best_grid.predict(x_test)\n",
    "\n",
    "# Calcular el error para el conjunto de entrenamiento y prueba\n",
    "error_train_grid = mean_absolute_error(y_train, y_pred_train_grid)\n",
    "error_test_grid = mean_absolute_error(y_test, y_pred_test_grid)"
   ]
  },
  {
   "cell_type": "code",
   "execution_count": 78,
   "id": "deaca9bc",
   "metadata": {},
   "outputs": [
    {
     "name": "stdout",
     "output_type": "stream",
     "text": [
      "MAE del conjunto de entrenamiento: 0.1411091\n",
      "MAE del conjunto de prueba: 0.1319898\n"
     ]
    }
   ],
   "source": [
    "# Se observa al aplicar un modelo ensamble con bagging con un ajuste de hiper parámetros\n",
    "# el MAE para el conjunto de entrenamiento es de 0.0421 y en el conjunto de pruebas es de 0.065\n",
    "\n",
    "print('MAE del conjunto de entrenamiento: {:.7f}'.format(error_train_grid))\n",
    "print('MAE del conjunto de prueba: {:.7f}'.format(error_test_grid))"
   ]
  },
  {
   "cell_type": "markdown",
   "id": "5eb8e90d",
   "metadata": {},
   "source": [
    "#### Optimización bayesiana"
   ]
  },
  {
   "cell_type": "code",
   "execution_count": 11,
   "id": "348a5c40",
   "metadata": {},
   "outputs": [],
   "source": [
    "def optimize(search_space):\n",
    "    model = BaggingRegressor(**search_space)\n",
    "    scores = cross_val_score(model, X=x_train, y=y_train, cv=10, scoring='neg_mean_absolute_error').mean()\n",
    "    \n",
    "    return {'loss':scores, 'status': STATUS_OK, 'model': model}"
   ]
  },
  {
   "cell_type": "code",
   "execution_count": 25,
   "id": "7c34e667",
   "metadata": {},
   "outputs": [],
   "source": [
    "search_space = {\n",
    "     'bootstrap': hp.choice('bootstrap', [True, False])\n",
    "    , 'n_estimators': ho_scope.int(hp.quniform('n_estimators', 10, 100, 10))\n",
    "    , 'max_features': ho_scope.int(hp.quniform('max_features', 1, 30, 1))\n",
    "    , 'max_samples': ho_scope.int(hp.quniform('max_samples', 1, 30, 1))\n",
    "}\n",
    "\n",
    "optimization_function = partial(\n",
    "    optimize\n",
    ")"
   ]
  },
  {
   "cell_type": "code",
   "execution_count": 26,
   "id": "ad01a689",
   "metadata": {},
   "outputs": [
    {
     "name": "stdout",
     "output_type": "stream",
     "text": [
      "100%|█████████████████████████████████| 200/200 [03:36<00:00,  1.08s/trial, best loss: -0.15600837230504672]\n"
     ]
    }
   ],
   "source": [
    "trials = Trials()\n",
    "start = dt.now()\n",
    "\n",
    "result = fmin(\n",
    "    fn = optimization_function\n",
    "    , space = search_space\n",
    "    , max_evals = 200\n",
    "    , trials=trials\n",
    "    , algo = tpe.suggest\n",
    ")\n",
    "\n",
    "end = dt.now()"
   ]
  },
  {
   "cell_type": "code",
   "execution_count": 27,
   "id": "4607cab9",
   "metadata": {},
   "outputs": [
    {
     "data": {
      "text/plain": [
       "216"
      ]
     },
     "execution_count": 27,
     "metadata": {},
     "output_type": "execute_result"
    }
   ],
   "source": [
    "# Tiempo que se requiere para ajustar el modelo\n",
    "(end - start).seconds"
   ]
  },
  {
   "cell_type": "code",
   "execution_count": 28,
   "id": "365af616",
   "metadata": {},
   "outputs": [
    {
     "name": "stdout",
     "output_type": "stream",
     "text": [
      "{'bootstrap': True, 'max_features': 19, 'max_samples': 1, 'n_estimators': 10}\n"
     ]
    }
   ],
   "source": [
    "print(space_eval(search_space, result))"
   ]
  },
  {
   "cell_type": "code",
   "execution_count": 29,
   "id": "09950b91",
   "metadata": {},
   "outputs": [],
   "source": [
    "best_model_bo = trials.best_trial['result']['model']"
   ]
  },
  {
   "cell_type": "code",
   "execution_count": 30,
   "id": "a92cc899",
   "metadata": {},
   "outputs": [
    {
     "data": {
      "text/plain": [
       "['resultados/ensamble_bag_bo.pkl']"
      ]
     },
     "execution_count": 30,
     "metadata": {},
     "output_type": "execute_result"
    }
   ],
   "source": [
    "joblib.dump(best_model_bo, 'resultados/ensamble_bag_bo.pkl')"
   ]
  },
  {
   "cell_type": "code",
   "execution_count": 31,
   "id": "0a03415a",
   "metadata": {},
   "outputs": [
    {
     "data": {
      "text/plain": [
       "BaggingRegressor(max_features=19, max_samples=1)"
      ]
     },
     "execution_count": 31,
     "metadata": {},
     "output_type": "execute_result"
    }
   ],
   "source": [
    "best_model_bo.fit(x_train, y_train)"
   ]
  },
  {
   "cell_type": "code",
   "execution_count": 32,
   "id": "ca6a9995",
   "metadata": {},
   "outputs": [
    {
     "name": "stdout",
     "output_type": "stream",
     "text": [
      "MAE del conjunto de entrenamiento: 0.1467478\n",
      "MAE del conjunto de prueba: 0.1371832\n"
     ]
    }
   ],
   "source": [
    "# Valores predichos por el modelo\n",
    "y_pred_train_bo = best_model_bo.predict(x_train)\n",
    "y_pred_test_bo = best_model_bo.predict(x_test)\n",
    "\n",
    "# Calcular el error para el conjunto de entrenamiento y prueba\n",
    "error_train_bo = mean_absolute_error(y_train, y_pred_train_bo)\n",
    "error_test_bo = mean_absolute_error(y_test, y_pred_test_bo)\n",
    "\n",
    "print('MAE del conjunto de entrenamiento: {:.7f}'.format(error_train_bo))\n",
    "print('MAE del conjunto de prueba: {:.7f}'.format(error_test_bo))"
   ]
  },
  {
   "cell_type": "code",
   "execution_count": 33,
   "id": "88887050",
   "metadata": {},
   "outputs": [],
   "source": [
    "# trials.losses()"
   ]
  },
  {
   "cell_type": "code",
   "execution_count": 34,
   "id": "5a6be9ce",
   "metadata": {},
   "outputs": [
    {
     "data": {
      "text/plain": [
       "['resultados/ensamble_bag_bo_trials.pkl']"
      ]
     },
     "execution_count": 34,
     "metadata": {},
     "output_type": "execute_result"
    }
   ],
   "source": [
    "joblib.dump(trials, 'resultados/ensamble_bag_bo_trials.pkl')"
   ]
  },
  {
   "cell_type": "code",
   "execution_count": null,
   "id": "d0a87ea4",
   "metadata": {},
   "outputs": [],
   "source": []
  }
 ],
 "metadata": {
  "kernelspec": {
   "display_name": "Python 3 (ipykernel)",
   "language": "python",
   "name": "python3"
  },
  "language_info": {
   "codemirror_mode": {
    "name": "ipython",
    "version": 3
   },
   "file_extension": ".py",
   "mimetype": "text/x-python",
   "name": "python",
   "nbconvert_exporter": "python",
   "pygments_lexer": "ipython3",
   "version": "3.10.1"
  }
 },
 "nbformat": 4,
 "nbformat_minor": 5
}
