{
 "cells": [
  {
   "cell_type": "code",
   "execution_count": 1,
   "id": "56398dc0",
   "metadata": {},
   "outputs": [],
   "source": [
    "# Importar librerías\n",
    "import pandas as pd\n",
    "import numpy as np\n",
    "import matplotlib.pyplot as plt\n",
    "import joblib\n",
    "from datetime import datetime as dt\n",
    "from sklearn.ensemble import RandomForestRegressor\n",
    "from sklearn.model_selection import train_test_split, GroupKFold, cross_val_score, GridSearchCV\n",
    "from sklearn.metrics import mean_absolute_error\n",
    "from functools import partial\n",
    "from hyperopt import hp, fmin, tpe, Trials, STATUS_OK, space_eval\n",
    "from hyperopt.pyll import scope as ho_scope"
   ]
  },
  {
   "cell_type": "code",
   "execution_count": 2,
   "id": "37282026",
   "metadata": {},
   "outputs": [],
   "source": [
    "# Importar la data\n",
    "data = pd.read_csv('data.csv')"
   ]
  },
  {
   "cell_type": "code",
   "execution_count": 3,
   "id": "d98b9d00",
   "metadata": {},
   "outputs": [],
   "source": [
    "x = data.drop('actual_productivity', axis=1)\n",
    "y = data['actual_productivity']\n",
    "\n",
    "x_train, x_test, y_train, y_test = train_test_split(x, y, test_size=127, random_state=10)"
   ]
  },
  {
   "cell_type": "markdown",
   "id": "9ecfad41",
   "metadata": {},
   "source": [
    "### Modelo simple"
   ]
  },
  {
   "cell_type": "code",
   "execution_count": 4,
   "id": "2879bcd9",
   "metadata": {},
   "outputs": [],
   "source": [
    "# Definir el modelo Random forest\n",
    "model_rf = RandomForestRegressor(random_state=10, criterion='absolute_error', bootstrap=False)"
   ]
  },
  {
   "cell_type": "code",
   "execution_count": 5,
   "id": "91814597",
   "metadata": {},
   "outputs": [
    {
     "name": "stdout",
     "output_type": "stream",
     "text": [
      "Parámetros por defecto del modelo:\n",
      "\n",
      "{'bootstrap': False, 'ccp_alpha': 0.0, 'criterion': 'absolute_error', 'max_depth': None, 'max_features': 'auto', 'max_leaf_nodes': None, 'max_samples': None, 'min_impurity_decrease': 0.0, 'min_samples_leaf': 1, 'min_samples_split': 2, 'min_weight_fraction_leaf': 0.0, 'n_estimators': 100, 'n_jobs': None, 'oob_score': False, 'random_state': 10, 'verbose': 0, 'warm_start': False}\n"
     ]
    }
   ],
   "source": [
    "# Los parámetros que el modelo utiliza son\n",
    "\n",
    "print('Parámetros por defecto del modelo:\\n')\n",
    "print(model_rf.get_params())"
   ]
  },
  {
   "cell_type": "code",
   "execution_count": 6,
   "id": "2c0a725e",
   "metadata": {},
   "outputs": [],
   "source": [
    "start = dt.now()\n",
    "# Ajustar el modelo al conjunto de datos de entrenamiento\n",
    "model_rf.fit(x_train, y_train)\n",
    "end = dt.now()"
   ]
  },
  {
   "cell_type": "code",
   "execution_count": 7,
   "id": "3b309f57",
   "metadata": {},
   "outputs": [
    {
     "data": {
      "text/plain": [
       "8"
      ]
     },
     "execution_count": 7,
     "metadata": {},
     "output_type": "execute_result"
    }
   ],
   "source": [
    "# Tiempo que se requiere para ajustar el modelo\n",
    "(end - start).seconds"
   ]
  },
  {
   "cell_type": "code",
   "execution_count": 8,
   "id": "f0f6f2df",
   "metadata": {},
   "outputs": [],
   "source": [
    "# Valores predichos por el modelo\n",
    "y_pred_train = model_rf.predict(x_train)\n",
    "y_pred_test = model_rf.predict(x_test)\n",
    "\n",
    "# Calcular el error para el conjunto de entrenamiento y prueba\n",
    "error_train = mean_absolute_error(y_train, y_pred_train)\n",
    "error_test = mean_absolute_error(y_test, y_pred_test)"
   ]
  },
  {
   "cell_type": "code",
   "execution_count": 9,
   "id": "e3329a0a",
   "metadata": {},
   "outputs": [
    {
     "name": "stdout",
     "output_type": "stream",
     "text": [
      "MAE del conjunto de entrenamiento: 0.0000000\n",
      "MAE del conjunto de prueba: 0.0775621\n"
     ]
    }
   ],
   "source": [
    "# Se observa al aplicar un modelo random forest con sus parámetros por defecto\n",
    "# el MAE para el conjunto de entrenamiento es de 0 y en el conjunto de pruebas es de 0.0775\n",
    "\n",
    "print('MAE del conjunto de entrenamiento: {:.7f}'.format(error_train))\n",
    "print('MAE del conjunto de prueba: {:.7f}'.format(error_test))"
   ]
  },
  {
   "cell_type": "code",
   "execution_count": 10,
   "id": "946b80a6",
   "metadata": {},
   "outputs": [
    {
     "data": {
      "image/png": "[encoded data removed]",
      "text/plain": [
       "<Figure size 864x720 with 1 Axes>"
      ]
     },
     "metadata": {
      "needs_background": "light"
     },
     "output_type": "display_data"
    }
   ],
   "source": [
    "# Importancia de las variables para estimar la productividad\n",
    "\n",
    "plt.figure(figsize=(12,10))\n",
    "plt.barh(x_train.columns, model_rf.feature_importances_)\n",
    "plt.show()"
   ]
  },
  {
   "cell_type": "code",
   "execution_count": 11,
   "id": "181c4cfe",
   "metadata": {},
   "outputs": [
    {
     "data": {
      "text/plain": [
       "100"
      ]
     },
     "execution_count": 11,
     "metadata": {},
     "output_type": "execute_result"
    }
   ],
   "source": [
    "# Este modelo utilizó 100 estimadores\n",
    "len(model_rf.estimators_)"
   ]
  },
  {
   "cell_type": "markdown",
   "id": "bd076a87",
   "metadata": {},
   "source": [
    "### Modelo con ajuste de hiper parámetros"
   ]
  },
  {
   "cell_type": "markdown",
   "id": "a587c312",
   "metadata": {},
   "source": [
    "#### Grid search"
   ]
  },
  {
   "cell_type": "code",
   "execution_count": 12,
   "id": "d5ec7628",
   "metadata": {},
   "outputs": [],
   "source": [
    "# Crear la grilla de parámetros\n",
    "param_grid = {\n",
    "    'max_depth': [5, 10, 20, 30]\n",
    "     ,'max_features': [10, 20, 30]\n",
    "     ,'min_samples_leaf': [2, 5, 10]\n",
    "     ,'min_samples_split': [2, 5, 10]\n",
    "     ,'n_estimators': [50, 100, 200, 500, 1000]\n",
    "}"
   ]
  },
  {
   "cell_type": "code",
   "execution_count": 13,
   "id": "29d362e7",
   "metadata": {},
   "outputs": [],
   "source": [
    "# Definir el modelo Random forest\n",
    "model_rf = RandomForestRegressor(random_state=10, criterion='absolute_error', bootstrap=False)"
   ]
  },
  {
   "cell_type": "code",
   "execution_count": 14,
   "id": "0aecd666",
   "metadata": {},
   "outputs": [],
   "source": [
    "grid_search = GridSearchCV(estimator = model_rf\n",
    "             , param_grid = param_grid\n",
    "             , cv = 10\n",
    "             , n_jobs = -1)"
   ]
  },
  {
   "cell_type": "code",
   "execution_count": 15,
   "id": "ea63bbe3",
   "metadata": {},
   "outputs": [],
   "source": [
    "start = dt.now()\n",
    "grid_search.fit(x_train, y_train)\n",
    "end = dt.now()"
   ]
  },
  {
   "cell_type": "code",
   "execution_count": 16,
   "id": "7f4affcd",
   "metadata": {},
   "outputs": [
    {
     "data": {
      "text/plain": [
       "23382"
      ]
     },
     "execution_count": 16,
     "metadata": {},
     "output_type": "execute_result"
    }
   ],
   "source": [
    "# Tiempo que se requiere para ajustar el modelo\n",
    "(end - start).seconds"
   ]
  },
  {
   "cell_type": "code",
   "execution_count": 17,
   "id": "0866d7c6",
   "metadata": {},
   "outputs": [
    {
     "data": {
      "text/plain": [
       "{'max_depth': 20,\n",
       " 'max_features': 10,\n",
       " 'min_samples_leaf': 2,\n",
       " 'min_samples_split': 10,\n",
       " 'n_estimators': 50}"
      ]
     },
     "execution_count": 17,
     "metadata": {},
     "output_type": "execute_result"
    }
   ],
   "source": [
    "grid_search.best_params_"
   ]
  },
  {
   "cell_type": "code",
   "execution_count": 18,
   "id": "6e43dcd4",
   "metadata": {},
   "outputs": [],
   "source": [
    "best_grid = grid_search.best_estimator_"
   ]
  },
  {
   "cell_type": "code",
   "execution_count": 19,
   "id": "b9ece296",
   "metadata": {},
   "outputs": [
    {
     "data": {
      "text/plain": [
       "['resultados/random_forest_grid.pkl']"
      ]
     },
     "execution_count": 19,
     "metadata": {},
     "output_type": "execute_result"
    }
   ],
   "source": [
    "joblib.dump(best_grid, 'resultados/random_forest_grid.pkl')"
   ]
  },
  {
   "cell_type": "code",
   "execution_count": 20,
   "id": "d2134079",
   "metadata": {},
   "outputs": [],
   "source": [
    "# Valores predichos por el modelo\n",
    "y_pred_train_grid = best_grid.predict(x_train)\n",
    "y_pred_test_grid = best_grid.predict(x_test)\n",
    "\n",
    "# Calcular el error para el conjunto de entrenamiento y prueba\n",
    "error_train_grid = mean_absolute_error(y_train, y_pred_train_grid)\n",
    "error_test_grid = mean_absolute_error(y_test, y_pred_test_grid)"
   ]
  },
  {
   "cell_type": "code",
   "execution_count": 21,
   "id": "deaca9bc",
   "metadata": {},
   "outputs": [
    {
     "name": "stdout",
     "output_type": "stream",
     "text": [
      "MAE del conjunto de entrenamiento: 0.0419241\n",
      "MAE del conjunto de prueba: 0.0664803\n"
     ]
    }
   ],
   "source": [
    "# Se observa al aplicar un modelo random forest con un ajuste de hiper parámetros\n",
    "# el MAE para el conjunto de entrenamiento es de 0.0421 y en el conjunto de pruebas es de 0.065\n",
    "\n",
    "print('MAE del conjunto de entrenamiento: {:.7f}'.format(error_train_grid))\n",
    "print('MAE del conjunto de prueba: {:.7f}'.format(error_test_grid))"
   ]
  },
  {
   "cell_type": "markdown",
   "id": "5eb8e90d",
   "metadata": {},
   "source": [
    "#### Optimización bayesiana"
   ]
  },
  {
   "cell_type": "code",
   "execution_count": 22,
   "id": "b4dcf876",
   "metadata": {},
   "outputs": [],
   "source": [
    "def optimize(search_space):\n",
    "    model = RandomForestRegressor(**search_space)\n",
    "    scores = cross_val_score(model, X=x_train, y=y_train, cv=10, scoring='neg_mean_absolute_error').mean()\n",
    "    \n",
    "    return {'loss':scores, 'status': STATUS_OK, 'model': model}"
   ]
  },
  {
   "cell_type": "code",
   "execution_count": 23,
   "id": "8a735067",
   "metadata": {},
   "outputs": [],
   "source": [
    "search_space = {\n",
    "    'criterion': 'absolute_error',\n",
    "    'random_state': 10,\n",
    "    'max_depth': hp.quniform('max_depth', 3, 30, 1),\n",
    "    'max_features': hp.choice('max_features', [10, 20, 30]),\n",
    "    'min_samples_leaf': hp.choice('min_samples_leaf', [2, 5, 10]),\n",
    "    'min_samples_split' : hp.choice ('min_samples_split', [2, 5, 10]),\n",
    "    'n_estimators' : ho_scope.int(hp.quniform('n_estimators', 50, 1000, 1))\n",
    "}"
   ]
  },
  {
   "cell_type": "code",
   "execution_count": 24,
   "id": "6f1f20ec",
   "metadata": {},
   "outputs": [],
   "source": [
    "optimization_function = partial(\n",
    "    optimize\n",
    ")"
   ]
  },
  {
   "cell_type": "code",
   "execution_count": 25,
   "id": "bc621250",
   "metadata": {},
   "outputs": [
    {
     "name": "stdout",
     "output_type": "stream",
     "text": [
      "100%|███████████████████████████████████████████| 200/200 [3:12:28<00:00, 57.74s/trial, best loss: -0.0975854544113944]\n"
     ]
    }
   ],
   "source": [
    "trials = Trials()\n",
    "start = dt.now()\n",
    "\n",
    "result = fmin(\n",
    "    fn = optimization_function\n",
    "    , space = search_space\n",
    "    , max_evals = 200\n",
    "    , trials=trials\n",
    "    , algo = tpe.suggest\n",
    ")\n",
    "\n",
    "end = dt.now()"
   ]
  },
  {
   "cell_type": "code",
   "execution_count": 26,
   "id": "1c8d6a1d",
   "metadata": {},
   "outputs": [
    {
     "data": {
      "text/plain": [
       "11548"
      ]
     },
     "execution_count": 26,
     "metadata": {},
     "output_type": "execute_result"
    }
   ],
   "source": [
    "# Tiempo que se requiere para ajustar el modelo\n",
    "(end - start).seconds"
   ]
  },
  {
   "cell_type": "code",
   "execution_count": 27,
   "id": "bd1cfb5c",
   "metadata": {},
   "outputs": [
    {
     "name": "stdout",
     "output_type": "stream",
     "text": [
      "{'criterion': 'absolute_error', 'max_depth': 3.0, 'max_features': 10, 'min_samples_leaf': 5, 'min_samples_split': 2, 'n_estimators': 341, 'random_state': 10}\n"
     ]
    }
   ],
   "source": [
    "print(space_eval(search_space, result))"
   ]
  },
  {
   "cell_type": "code",
   "execution_count": 28,
   "id": "6ca33829",
   "metadata": {},
   "outputs": [],
   "source": [
    "best_model_bo = trials.best_trial['result']['model']"
   ]
  },
  {
   "cell_type": "code",
   "execution_count": 29,
   "id": "16629c91",
   "metadata": {},
   "outputs": [
    {
     "data": {
      "text/plain": [
       "['resultados/random_forest_bo.pkl']"
      ]
     },
     "execution_count": 29,
     "metadata": {},
     "output_type": "execute_result"
    }
   ],
   "source": [
    "joblib.dump(best_model_bo, 'resultados/random_forest_bo.pkl')"
   ]
  },
  {
   "cell_type": "code",
   "execution_count": 30,
   "id": "2084c0d3",
   "metadata": {},
   "outputs": [
    {
     "data": {
      "text/plain": [
       "RandomForestRegressor(criterion='absolute_error', max_depth=3.0,\n",
       "                      max_features=10, min_samples_leaf=5, n_estimators=341,\n",
       "                      random_state=10)"
      ]
     },
     "execution_count": 30,
     "metadata": {},
     "output_type": "execute_result"
    }
   ],
   "source": [
    "best_model_bo.fit(x_train, y_train)"
   ]
  },
  {
   "cell_type": "code",
   "execution_count": 31,
   "id": "51456efd",
   "metadata": {},
   "outputs": [],
   "source": [
    "# Valores predichos por el modelo\n",
    "y_pred_train_bo = best_model_bo.predict(x_train)\n",
    "y_pred_test_bo = best_model_bo.predict(x_test)\n",
    "\n",
    "# Calcular el error para el conjunto de entrenamiento y prueba\n",
    "error_train_bo = mean_absolute_error(y_train, y_pred_train_bo)\n",
    "error_test_bo = mean_absolute_error(y_test, y_pred_test_bo)"
   ]
  },
  {
   "cell_type": "code",
   "execution_count": 32,
   "id": "e0779e36",
   "metadata": {},
   "outputs": [
    {
     "name": "stdout",
     "output_type": "stream",
     "text": [
      "MAE del conjunto de entrenamiento: 0.0947643\n",
      "MAE del conjunto de prueba: 0.0883198\n"
     ]
    }
   ],
   "source": [
    "print('MAE del conjunto de entrenamiento: {:.7f}'.format(error_train_bo))\n",
    "print('MAE del conjunto de prueba: {:.7f}'.format(error_test_bo))"
   ]
  },
  {
   "cell_type": "code",
   "execution_count": 33,
   "id": "e7b9f8d0",
   "metadata": {},
   "outputs": [],
   "source": [
    "# trials.losses()"
   ]
  },
  {
   "cell_type": "code",
   "execution_count": 34,
   "id": "2ace28ea",
   "metadata": {},
   "outputs": [
    {
     "data": {
      "text/plain": [
       "['resultados/random_forest_bo_trials.pkl']"
      ]
     },
     "execution_count": 34,
     "metadata": {},
     "output_type": "execute_result"
    }
   ],
   "source": [
    "joblib.dump(trials, 'resultados/random_forest_bo_trials.pkl')"
   ]
  },
  {
   "cell_type": "code",
   "execution_count": null,
   "id": "29f6bd6d",
   "metadata": {},
   "outputs": [],
   "source": []
  }
 ],
 "metadata": {
  "kernelspec": {
   "display_name": "Python 3 (ipykernel)",
   "language": "python",
   "name": "python3"
  },
  "language_info": {
   "codemirror_mode": {
    "name": "ipython",
    "version": 3
   },
   "file_extension": ".py",
   "mimetype": "text/x-python",
   "name": "python",
   "nbconvert_exporter": "python",
   "pygments_lexer": "ipython3",
   "version": "3.9.12"
  }
 },
 "nbformat": 4,
 "nbformat_minor": 5
}
