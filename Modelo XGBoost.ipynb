{
 "cells": [
  {
   "cell_type": "code",
   "execution_count": 1,
   "id": "56398dc0",
   "metadata": {},
   "outputs": [],
   "source": [
    "# Importar librerías\n",
    "import pandas as pd\n",
    "import numpy as np\n",
    "import matplotlib.pyplot as plt\n",
    "import joblib\n",
    "import xgboost as xg\n",
    "from datetime import datetime as dt\n",
    "from sklearn.ensemble import RandomForestRegressor\n",
    "from sklearn.model_selection import train_test_split, GroupKFold, cross_val_score, GridSearchCV\n",
    "from sklearn.metrics import mean_absolute_error\n",
    "from functools import partial\n",
    "from hyperopt import hp, fmin, tpe, Trials, STATUS_OK, space_eval\n",
    "from hyperopt.pyll import scope as ho_scope"
   ]
  },
  {
   "cell_type": "code",
   "execution_count": 2,
   "id": "37282026",
   "metadata": {},
   "outputs": [],
   "source": [
    "# Importar la data\n",
    "data = pd.read_csv('data.csv')"
   ]
  },
  {
   "cell_type": "code",
   "execution_count": 3,
   "id": "d98b9d00",
   "metadata": {},
   "outputs": [],
   "source": [
    "x = data.drop('actual_productivity', axis=1)\n",
    "y = data['actual_productivity']\n",
    "\n",
    "x_train, x_test, y_train, y_test = train_test_split(x, y, test_size=127, random_state=10)"
   ]
  },
  {
   "cell_type": "markdown",
   "id": "9ecfad41",
   "metadata": {},
   "source": [
    "### Modelo simple"
   ]
  },
  {
   "cell_type": "code",
   "execution_count": 4,
   "id": "2879bcd9",
   "metadata": {},
   "outputs": [],
   "source": [
    "# Definir el modelo XGBoost\n",
    "model_xg = xg.XGBRegressor(random_state=10, eval_metric='mae')"
   ]
  },
  {
   "cell_type": "code",
   "execution_count": 5,
   "id": "91814597",
   "metadata": {},
   "outputs": [
    {
     "name": "stdout",
     "output_type": "stream",
     "text": [
      "Parámetros por defecto del modelo:\n",
      "\n",
      "{'objective': 'reg:squarederror', 'base_score': None, 'booster': None, 'callbacks': None, 'colsample_bylevel': None, 'colsample_bynode': None, 'colsample_bytree': None, 'early_stopping_rounds': None, 'enable_categorical': False, 'eval_metric': 'mae', 'gamma': None, 'gpu_id': None, 'grow_policy': None, 'importance_type': None, 'interaction_constraints': None, 'learning_rate': None, 'max_bin': None, 'max_cat_to_onehot': None, 'max_delta_step': None, 'max_depth': None, 'max_leaves': None, 'min_child_weight': None, 'missing': nan, 'monotone_constraints': None, 'n_estimators': 100, 'n_jobs': None, 'num_parallel_tree': None, 'predictor': None, 'random_state': 10, 'reg_alpha': None, 'reg_lambda': None, 'sampling_method': None, 'scale_pos_weight': None, 'subsample': None, 'tree_method': None, 'validate_parameters': None, 'verbosity': None}\n"
     ]
    }
   ],
   "source": [
    "# Los parámetros que el modelo utiliza son\n",
    "\n",
    "print('Parámetros por defecto del modelo:\\n')\n",
    "print(model_xg.get_params())"
   ]
  },
  {
   "cell_type": "code",
   "execution_count": 6,
   "id": "2c0a725e",
   "metadata": {},
   "outputs": [],
   "source": [
    "start = dt.now()\n",
    "# Ajustar el modelo al conjunto de datos de entrenamiento\n",
    "model_xg.fit(x_train, y_train)\n",
    "end = dt.now()"
   ]
  },
  {
   "cell_type": "code",
   "execution_count": 7,
   "id": "3b309f57",
   "metadata": {},
   "outputs": [
    {
     "data": {
      "text/plain": [
       "0"
      ]
     },
     "execution_count": 7,
     "metadata": {},
     "output_type": "execute_result"
    }
   ],
   "source": [
    "# Tiempo que se requiere para ajustar el modelo\n",
    "(end - start).seconds"
   ]
  },
  {
   "cell_type": "code",
   "execution_count": 8,
   "id": "f0f6f2df",
   "metadata": {},
   "outputs": [],
   "source": [
    "# Valores predichos por el modelo\n",
    "y_pred_train = model_xg.predict(x_train)\n",
    "y_pred_test = model_xg.predict(x_test)\n",
    "\n",
    "# Calcular el error para el conjunto de entrenamiento y prueba\n",
    "error_train = mean_absolute_error(y_train, y_pred_train)\n",
    "error_test = mean_absolute_error(y_test, y_pred_test)"
   ]
  },
  {
   "cell_type": "code",
   "execution_count": 9,
   "id": "e3329a0a",
   "metadata": {},
   "outputs": [
    {
     "name": "stdout",
     "output_type": "stream",
     "text": [
      "MAE del conjunto de entrenamiento: 0.0142729\n",
      "MAE del conjunto de prueba: 0.0784539\n"
     ]
    }
   ],
   "source": [
    "# Se observa al aplicar un modelo xgboost con sus parámetros por defecto\n",
    "# el MAE para el conjunto de entrenamiento es de 0.01 y en el conjunto de pruebas es de 0.0785\n",
    "\n",
    "print('MAE del conjunto de entrenamiento: {:.7f}'.format(error_train))\n",
    "print('MAE del conjunto de prueba: {:.7f}'.format(error_test))"
   ]
  },
  {
   "cell_type": "code",
   "execution_count": 10,
   "id": "946b80a6",
   "metadata": {},
   "outputs": [
    {
     "data": {
      "image/png": "[encoded data removed]",
      "text/plain": [
       "<Figure size 864x720 with 1 Axes>"
      ]
     },
     "metadata": {
      "needs_background": "light"
     },
     "output_type": "display_data"
    }
   ],
   "source": [
    "# Importancia de las variables para estimar la productividad\n",
    "\n",
    "plt.figure(figsize=(12,10))\n",
    "plt.barh(x_train.columns, model_xg.feature_importances_)\n",
    "plt.show()"
   ]
  },
  {
   "cell_type": "markdown",
   "id": "bd076a87",
   "metadata": {},
   "source": [
    "### Modelo con ajuste de hiper parámetros"
   ]
  },
  {
   "cell_type": "markdown",
   "id": "a587c312",
   "metadata": {},
   "source": [
    "#### Grid search"
   ]
  },
  {
   "cell_type": "code",
   "execution_count": 11,
   "id": "d5ec7628",
   "metadata": {},
   "outputs": [],
   "source": [
    "# Crear la grilla de parámetros\n",
    "param_grid = {\n",
    "    'max_depth': [3, 10, 20, 30]\n",
    "     ,'min_child_weight': [1, 5, 10]\n",
    "#      ,'gamma': [0.05, 2, 5]\n",
    "#      ,'eta': [0, 0.1, 0.2, 0.5]\n",
    "     ,'subsample': [0.1, 0.5, 0.8, 1]\n",
    "     ,'colsample_bytree': [0.1, 0.5, 0.8, 1]\n",
    "}"
   ]
  },
  {
   "cell_type": "code",
   "execution_count": 12,
   "id": "29d362e7",
   "metadata": {},
   "outputs": [],
   "source": [
    "# Definir el modelo XGBoost\n",
    "model_xg = xg.XGBRegressor(random_state=10, eval_metric='mae',seed = 10)"
   ]
  },
  {
   "cell_type": "code",
   "execution_count": 13,
   "id": "0aecd666",
   "metadata": {},
   "outputs": [],
   "source": [
    "grid_search = GridSearchCV(estimator = model_xg\n",
    "             , param_grid = param_grid\n",
    "             , cv = 10\n",
    "             , n_jobs = -1)"
   ]
  },
  {
   "cell_type": "code",
   "execution_count": 14,
   "id": "ea63bbe3",
   "metadata": {},
   "outputs": [],
   "source": [
    "start = dt.now()\n",
    "grid_search.fit(x_train, y_train)\n",
    "end = dt.now()"
   ]
  },
  {
   "cell_type": "code",
   "execution_count": 15,
   "id": "7f4affcd",
   "metadata": {},
   "outputs": [
    {
     "data": {
      "text/plain": [
       "2893"
      ]
     },
     "execution_count": 15,
     "metadata": {},
     "output_type": "execute_result"
    }
   ],
   "source": [
    "# Tiempo que se requiere para ajustar el modelo\n",
    "(end - start).seconds"
   ]
  },
  {
   "cell_type": "code",
   "execution_count": 16,
   "id": "0866d7c6",
   "metadata": {},
   "outputs": [
    {
     "data": {
      "text/plain": [
       "{'colsample_bytree': 0.5,\n",
       " 'eta': 0.1,\n",
       " 'gamma': 0.05,\n",
       " 'max_depth': 20,\n",
       " 'min_child_weight': 1,\n",
       " 'subsample': 0.8}"
      ]
     },
     "execution_count": 16,
     "metadata": {},
     "output_type": "execute_result"
    }
   ],
   "source": [
    "grid_search.best_params_"
   ]
  },
  {
   "cell_type": "code",
   "execution_count": 17,
   "id": "6e43dcd4",
   "metadata": {},
   "outputs": [],
   "source": [
    "best_grid = grid_search.best_estimator_"
   ]
  },
  {
   "cell_type": "code",
   "execution_count": 18,
   "id": "b9ece296",
   "metadata": {},
   "outputs": [
    {
     "data": {
      "text/plain": [
       "['resultados/xgboost_grid.pkl']"
      ]
     },
     "execution_count": 18,
     "metadata": {},
     "output_type": "execute_result"
    }
   ],
   "source": [
    "joblib.dump(best_grid, 'resultados/xgboost_grid.pkl')"
   ]
  },
  {
   "cell_type": "code",
   "execution_count": 19,
   "id": "d2134079",
   "metadata": {},
   "outputs": [],
   "source": [
    "# Valores predichos por el modelo\n",
    "y_pred_train_grid = best_grid.predict(x_train)\n",
    "y_pred_test_grid = best_grid.predict(x_test)\n",
    "\n",
    "# Calcular el error para el conjunto de entrenamiento y prueba\n",
    "error_train_grid = mean_absolute_error(y_train, y_pred_train_grid)\n",
    "error_test_grid = mean_absolute_error(y_test, y_pred_test_grid)"
   ]
  },
  {
   "cell_type": "code",
   "execution_count": 20,
   "id": "deaca9bc",
   "metadata": {},
   "outputs": [
    {
     "name": "stdout",
     "output_type": "stream",
     "text": [
      "MAE del conjunto de entrenamiento: 0.0498930\n",
      "MAE del conjunto de prueba: 0.0701750\n"
     ]
    }
   ],
   "source": [
    "# Se observa al aplicar un modelo XGBoost con un ajuste de hiper parámetros\n",
    "# el MAE para el conjunto de entrenamiento es de 0.0421 y en el conjunto de pruebas es de 0.065\n",
    "\n",
    "print('MAE del conjunto de entrenamiento: {:.7f}'.format(error_train_grid))\n",
    "print('MAE del conjunto de prueba: {:.7f}'.format(error_test_grid))"
   ]
  },
  {
   "cell_type": "markdown",
   "id": "5eb8e90d",
   "metadata": {},
   "source": [
    "#### Optimización bayesiana"
   ]
  },
  {
   "cell_type": "code",
   "execution_count": 4,
   "id": "348a5c40",
   "metadata": {},
   "outputs": [],
   "source": [
    "def optimize(search_space):\n",
    "    model = xg.XGBRegressor(**search_space)\n",
    "    scores = cross_val_score(model, X=x_train, y=y_train, cv=10, scoring='neg_mean_absolute_error').mean()\n",
    "    \n",
    "    return {'loss':scores, 'status': STATUS_OK, 'model': model}"
   ]
  },
  {
   "cell_type": "code",
   "execution_count": 5,
   "id": "7c34e667",
   "metadata": {},
   "outputs": [],
   "source": [
    "search_space = {\n",
    "    'eval_metric': 'mae',\n",
    "    'seed': 10,\n",
    "    'max_depth': ho_scope.int(hp.quniform('max_depth', 3, 30, 1)),\n",
    "    'min_child_weight': ho_scope.int(hp.quniform('min_child_weight', 1, 10, 1)),\n",
    "#     'gamma': hp.quniform('gamma', 0.05, 5, 0.05),\n",
    "#     'eta': hp.quniform('eta', 0, 0.5, 0.05),\n",
    "    'subsample': hp.quniform('subsample', 0.1, 1, 0.1),\n",
    "    'colsample_bytree': hp.quniform('colsasmple_bytree', 0.1, 1, 0.1)\n",
    "}\n",
    "\n",
    "optimization_function = partial(\n",
    "    optimize\n",
    ")"
   ]
  },
  {
   "cell_type": "code",
   "execution_count": 23,
   "id": "ad01a689",
   "metadata": {},
   "outputs": [
    {
     "name": "stdout",
     "output_type": "stream",
     "text": [
      "100%|██████████| 200/200 [09:14<00:00,  2.77s/trial, best loss: -0.2630280669747664]\n"
     ]
    }
   ],
   "source": [
    "trials = Trials()\n",
    "start = dt.now()\n",
    "\n",
    "result = fmin(\n",
    "    fn = optimization_function\n",
    "    , space = search_space\n",
    "    , max_evals = 200\n",
    "    , trials=trials\n",
    "    , algo = tpe.suggest\n",
    ")\n",
    "\n",
    "end = dt.now()"
   ]
  },
  {
   "cell_type": "code",
   "execution_count": 24,
   "id": "4607cab9",
   "metadata": {},
   "outputs": [
    {
     "data": {
      "text/plain": [
       "554"
      ]
     },
     "execution_count": 24,
     "metadata": {},
     "output_type": "execute_result"
    }
   ],
   "source": [
    "# Tiempo que se requiere para ajustar el modelo\n",
    "(end - start).seconds"
   ]
  },
  {
   "cell_type": "code",
   "execution_count": 25,
   "id": "365af616",
   "metadata": {},
   "outputs": [
    {
     "name": "stdout",
     "output_type": "stream",
     "text": [
      "{'colsample_bytree': 0.1, 'eta': 0.0, 'eval_metric': 'mae', 'gamma': 0.65, 'max_depth': 7, 'min_child_weight': 7, 'seed': 10, 'subsample': 0.6000000000000001}\n"
     ]
    }
   ],
   "source": [
    "print(space_eval(search_space, result))"
   ]
  },
  {
   "cell_type": "code",
   "execution_count": 26,
   "id": "09950b91",
   "metadata": {},
   "outputs": [],
   "source": [
    "best_model_bo = trials.best_trial['result']['model']"
   ]
  },
  {
   "cell_type": "code",
   "execution_count": 27,
   "id": "a92cc899",
   "metadata": {},
   "outputs": [
    {
     "data": {
      "text/plain": [
       "['resultados/xgboost_bo.pkl']"
      ]
     },
     "execution_count": 27,
     "metadata": {},
     "output_type": "execute_result"
    }
   ],
   "source": [
    "joblib.dump(best_model_bo, 'resultados/xgboost_bo.pkl')"
   ]
  },
  {
   "cell_type": "code",
   "execution_count": 28,
   "id": "0a03415a",
   "metadata": {},
   "outputs": [
    {
     "data": {
      "text/html": [
       "<style>#sk-container-id-1 {color: black;background-color: white;}#sk-container-id-1 pre{padding: 0;}#sk-container-id-1 div.sk-toggleable {background-color: white;}#sk-container-id-1 label.sk-toggleable__label {cursor: pointer;display: block;width: 100%;margin-bottom: 0;padding: 0.3em;box-sizing: border-box;text-align: center;}#sk-container-id-1 label.sk-toggleable__label-arrow:before {content: \"▸\";float: left;margin-right: 0.25em;color: #696969;}#sk-container-id-1 label.sk-toggleable__label-arrow:hover:before {color: black;}#sk-container-id-1 div.sk-estimator:hover label.sk-toggleable__label-arrow:before {color: black;}#sk-container-id-1 div.sk-toggleable__content {max-height: 0;max-width: 0;overflow: hidden;text-align: left;background-color: #f0f8ff;}#sk-container-id-1 div.sk-toggleable__content pre {margin: 0.2em;color: black;border-radius: 0.25em;background-color: #f0f8ff;}#sk-container-id-1 input.sk-toggleable__control:checked~div.sk-toggleable__content {max-height: 200px;max-width: 100%;overflow: auto;}#sk-container-id-1 input.sk-toggleable__control:checked~label.sk-toggleable__label-arrow:before {content: \"▾\";}#sk-container-id-1 div.sk-estimator input.sk-toggleable__control:checked~label.sk-toggleable__label {background-color: #d4ebff;}#sk-container-id-1 div.sk-label input.sk-toggleable__control:checked~label.sk-toggleable__label {background-color: #d4ebff;}#sk-container-id-1 input.sk-hidden--visually {border: 0;clip: rect(1px 1px 1px 1px);clip: rect(1px, 1px, 1px, 1px);height: 1px;margin: -1px;overflow: hidden;padding: 0;position: absolute;width: 1px;}#sk-container-id-1 div.sk-estimator {font-family: monospace;background-color: #f0f8ff;border: 1px dotted black;border-radius: 0.25em;box-sizing: border-box;margin-bottom: 0.5em;}#sk-container-id-1 div.sk-estimator:hover {background-color: #d4ebff;}#sk-container-id-1 div.sk-parallel-item::after {content: \"\";width: 100%;border-bottom: 1px solid gray;flex-grow: 1;}#sk-container-id-1 div.sk-label:hover label.sk-toggleable__label {background-color: #d4ebff;}#sk-container-id-1 div.sk-serial::before {content: \"\";position: absolute;border-left: 1px solid gray;box-sizing: border-box;top: 0;bottom: 0;left: 50%;z-index: 0;}#sk-container-id-1 div.sk-serial {display: flex;flex-direction: column;align-items: center;background-color: white;padding-right: 0.2em;padding-left: 0.2em;position: relative;}#sk-container-id-1 div.sk-item {position: relative;z-index: 1;}#sk-container-id-1 div.sk-parallel {display: flex;align-items: stretch;justify-content: center;background-color: white;position: relative;}#sk-container-id-1 div.sk-item::before, #sk-container-id-1 div.sk-parallel-item::before {content: \"\";position: absolute;border-left: 1px solid gray;box-sizing: border-box;top: 0;bottom: 0;left: 50%;z-index: -1;}#sk-container-id-1 div.sk-parallel-item {display: flex;flex-direction: column;z-index: 1;position: relative;background-color: white;}#sk-container-id-1 div.sk-parallel-item:first-child::after {align-self: flex-end;width: 50%;}#sk-container-id-1 div.sk-parallel-item:last-child::after {align-self: flex-start;width: 50%;}#sk-container-id-1 div.sk-parallel-item:only-child::after {width: 0;}#sk-container-id-1 div.sk-dashed-wrapped {border: 1px dashed gray;margin: 0 0.4em 0.5em 0.4em;box-sizing: border-box;padding-bottom: 0.4em;background-color: white;}#sk-container-id-1 div.sk-label label {font-family: monospace;font-weight: bold;display: inline-block;line-height: 1.2em;}#sk-container-id-1 div.sk-label-container {text-align: center;}#sk-container-id-1 div.sk-container {/* jupyter's `normalize.less` sets `[hidden] { display: none; }` but bootstrap.min.css set `[hidden] { display: none !important; }` so we also need the `!important` here to be able to override the default hidden behavior on the sphinx rendered scikit-learn.org. See: https://github.com/scikit-learn/scikit-learn/issues/21755 */display: inline-block !important;position: relative;}#sk-container-id-1 div.sk-text-repr-fallback {display: none;}</style><div id=\"sk-container-id-1\" class=\"sk-top-container\"><div class=\"sk-text-repr-fallback\"><pre>XGBRegressor(base_score=0.5, booster=&#x27;gbtree&#x27;, callbacks=None,\n",
       "             colsample_bylevel=1, colsample_bynode=1, colsample_bytree=0.1,\n",
       "             early_stopping_rounds=None, enable_categorical=False, eta=0.0,\n",
       "             eval_metric=&#x27;mae&#x27;, gamma=0.65, gpu_id=-1, grow_policy=&#x27;depthwise&#x27;,\n",
       "             importance_type=None, interaction_constraints=&#x27;&#x27;, learning_rate=0,\n",
       "             max_bin=256, max_cat_to_onehot=4, max_delta_step=0, max_depth=7,\n",
       "             max_leaves=0, min_child_weight=7, missing=nan,\n",
       "             monotone_constraints=&#x27;()&#x27;, n_estimators=100, n_jobs=0,\n",
       "             num_parallel_tree=1, predictor=&#x27;auto&#x27;, random_state=10,\n",
       "             reg_alpha=0, ...)</pre><b>In a Jupyter environment, please rerun this cell to show the HTML representation or trust the notebook. <br />On GitHub, the HTML representation is unable to render, please try loading this page with nbviewer.org.</b></div><div class=\"sk-container\" hidden><div class=\"sk-item\"><div class=\"sk-estimator sk-toggleable\"><input class=\"sk-toggleable__control sk-hidden--visually\" id=\"sk-estimator-id-1\" type=\"checkbox\" checked><label for=\"sk-estimator-id-1\" class=\"sk-toggleable__label sk-toggleable__label-arrow\">XGBRegressor</label><div class=\"sk-toggleable__content\"><pre>XGBRegressor(base_score=0.5, booster=&#x27;gbtree&#x27;, callbacks=None,\n",
       "             colsample_bylevel=1, colsample_bynode=1, colsample_bytree=0.1,\n",
       "             early_stopping_rounds=None, enable_categorical=False, eta=0.0,\n",
       "             eval_metric=&#x27;mae&#x27;, gamma=0.65, gpu_id=-1, grow_policy=&#x27;depthwise&#x27;,\n",
       "             importance_type=None, interaction_constraints=&#x27;&#x27;, learning_rate=0,\n",
       "             max_bin=256, max_cat_to_onehot=4, max_delta_step=0, max_depth=7,\n",
       "             max_leaves=0, min_child_weight=7, missing=nan,\n",
       "             monotone_constraints=&#x27;()&#x27;, n_estimators=100, n_jobs=0,\n",
       "             num_parallel_tree=1, predictor=&#x27;auto&#x27;, random_state=10,\n",
       "             reg_alpha=0, ...)</pre></div></div></div></div></div>"
      ],
      "text/plain": [
       "XGBRegressor(base_score=0.5, booster='gbtree', callbacks=None,\n",
       "             colsample_bylevel=1, colsample_bynode=1, colsample_bytree=0.1,\n",
       "             early_stopping_rounds=None, enable_categorical=False, eta=0.0,\n",
       "             eval_metric='mae', gamma=0.65, gpu_id=-1, grow_policy='depthwise',\n",
       "             importance_type=None, interaction_constraints='', learning_rate=0,\n",
       "             max_bin=256, max_cat_to_onehot=4, max_delta_step=0, max_depth=7,\n",
       "             max_leaves=0, min_child_weight=7, missing=nan,\n",
       "             monotone_constraints='()', n_estimators=100, n_jobs=0,\n",
       "             num_parallel_tree=1, predictor='auto', random_state=10,\n",
       "             reg_alpha=0, ...)"
      ]
     },
     "execution_count": 28,
     "metadata": {},
     "output_type": "execute_result"
    }
   ],
   "source": [
    "best_model_bo.fit(x_train, y_train)"
   ]
  },
  {
   "cell_type": "code",
   "execution_count": 29,
   "id": "ca6a9995",
   "metadata": {},
   "outputs": [
    {
     "name": "stdout",
     "output_type": "stream",
     "text": [
      "MAE del conjunto de entrenamiento: 0.2630281\n",
      "MAE del conjunto de prueba: 0.2678626\n"
     ]
    }
   ],
   "source": [
    "# Valores predichos por el modelo\n",
    "y_pred_train_bo = best_model_bo.predict(x_train)\n",
    "y_pred_test_bo = best_model_bo.predict(x_test)\n",
    "\n",
    "# Calcular el error para el conjunto de entrenamiento y prueba\n",
    "error_train_bo = mean_absolute_error(y_train, y_pred_train_bo)\n",
    "error_test_bo = mean_absolute_error(y_test, y_pred_test_bo)\n",
    "\n",
    "print('MAE del conjunto de entrenamiento: {:.7f}'.format(error_train_bo))\n",
    "print('MAE del conjunto de prueba: {:.7f}'.format(error_test_bo))"
   ]
  },
  {
   "cell_type": "code",
   "execution_count": 30,
   "id": "88887050",
   "metadata": {},
   "outputs": [],
   "source": [
    "# trials.losses()"
   ]
  },
  {
   "cell_type": "code",
   "execution_count": 31,
   "id": "5a6be9ce",
   "metadata": {},
   "outputs": [
    {
     "data": {
      "text/plain": [
       "['resultados/xgoost_bo_trials.pkl']"
      ]
     },
     "execution_count": 31,
     "metadata": {},
     "output_type": "execute_result"
    }
   ],
   "source": [
    "joblib.dump(trials, 'resultados/xgoost_bo_trials.pkl')"
   ]
  },
  {
   "cell_type": "code",
   "execution_count": null,
   "id": "d0a87ea4",
   "metadata": {},
   "outputs": [],
   "source": []
  }
 ],
 "metadata": {
  "kernelspec": {
   "display_name": "Python 3 (ipykernel)",
   "language": "python",
   "name": "python3"
  },
  "language_info": {
   "codemirror_mode": {
    "name": "ipython",
    "version": 3
   },
   "file_extension": ".py",
   "mimetype": "text/x-python",
   "name": "python",
   "nbconvert_exporter": "python",
   "pygments_lexer": "ipython3",
   "version": "3.10.1"
  }
 },
 "nbformat": 4,
 "nbformat_minor": 5
}
