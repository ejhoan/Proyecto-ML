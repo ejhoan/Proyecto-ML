{
 "cells": [
  {
   "cell_type": "code",
   "execution_count": 2,
   "id": "56398dc0",
   "metadata": {},
   "outputs": [],
   "source": [
    "# Importar librerías\n",
    "import pandas as pd\n",
    "import numpy as np\n",
    "import matplotlib.pyplot as plt\n",
    "import joblib\n",
    "import xgboost as xg\n",
    "from sklearn.svm import SVR\n",
    "from sklearn import preprocessing\n",
    "from datetime import datetime as dt\n",
    "from sklearn.model_selection import train_test_split, GroupKFold, cross_val_score, GridSearchCV\n",
    "from sklearn.metrics import mean_absolute_error\n",
    "from functools import partial\n",
    "from hyperopt import hp, fmin, tpe, Trials, STATUS_OK, space_eval\n",
    "from hyperopt.pyll import scope as ho_scope\n",
    "from sklearn.ensemble import BaggingRegressor\n",
    "from sklearn.ensemble import GradientBoostingRegressor\n",
    "from sklearn.linear_model import LinearRegression\n",
    "from sklearn.ensemble import RandomForestRegressor\n",
    "from sklearn.tree import DecisionTreeRegressor "
   ]
  },
  {
   "cell_type": "code",
   "execution_count": 3,
   "id": "37282026",
   "metadata": {},
   "outputs": [],
   "source": [
    "# Importar la data\n",
    "data = pd.read_csv('data.csv')"
   ]
  },
  {
   "cell_type": "code",
   "execution_count": 4,
   "id": "d98b9d00",
   "metadata": {},
   "outputs": [],
   "source": [
    "x = data.drop('actual_productivity', axis=1)\n",
    "y = data['actual_productivity']\n",
    "\n",
    "scaler = preprocessing.StandardScaler().fit(x)\n",
    "x_scaled = scaler.transform(x)\n",
    "\n",
    "x_train, x_test, y_train, y_test = train_test_split(x_scaled, y, test_size=127, random_state=10)"
   ]
  },
  {
   "cell_type": "markdown",
   "id": "9ecfad41",
   "metadata": {},
   "source": [
    "### Modelo simple"
   ]
  },
  {
   "cell_type": "code",
   "execution_count": 5,
   "id": "2879bcd9",
   "metadata": {},
   "outputs": [
    {
     "data": {
      "text/plain": [
       "GradientBoostingRegressor(random_state=10)"
      ]
     },
     "execution_count": 5,
     "metadata": {},
     "output_type": "execute_result"
    }
   ],
   "source": [
    "# Definir el modelo ensamblado usando boosting\n",
    "ensamble_bag = GradientBoostingRegressor(random_state=10)\n",
    "\n",
    "ensamble_bag.fit(x_train, y_train)"
   ]
  },
  {
   "cell_type": "code",
   "execution_count": 6,
   "id": "91814597",
   "metadata": {},
   "outputs": [
    {
     "name": "stdout",
     "output_type": "stream",
     "text": [
      "Parámetros por defecto del modelo:\n",
      "\n",
      "{'alpha': 0.9, 'ccp_alpha': 0.0, 'criterion': 'friedman_mse', 'init': None, 'learning_rate': 0.1, 'loss': 'squared_error', 'max_depth': 3, 'max_features': None, 'max_leaf_nodes': None, 'min_impurity_decrease': 0.0, 'min_samples_leaf': 1, 'min_samples_split': 2, 'min_weight_fraction_leaf': 0.0, 'n_estimators': 100, 'n_iter_no_change': None, 'random_state': 10, 'subsample': 1.0, 'tol': 0.0001, 'validation_fraction': 0.1, 'verbose': 0, 'warm_start': False}\n"
     ]
    }
   ],
   "source": [
    "# Los parámetros que el modelo utiliza son\n",
    "\n",
    "print('Parámetros por defecto del modelo:\\n')\n",
    "print(ensamble_bag.get_params())"
   ]
  },
  {
   "cell_type": "code",
   "execution_count": 7,
   "id": "2c0a725e",
   "metadata": {},
   "outputs": [],
   "source": [
    "start = dt.now()\n",
    "# Ajustar el modelo al conjunto de datos de entrenamiento\n",
    "ensamble_bag.fit(x_train, y_train)\n",
    "end = dt.now()"
   ]
  },
  {
   "cell_type": "code",
   "execution_count": 8,
   "id": "3b309f57",
   "metadata": {},
   "outputs": [
    {
     "data": {
      "text/plain": [
       "0"
      ]
     },
     "execution_count": 8,
     "metadata": {},
     "output_type": "execute_result"
    }
   ],
   "source": [
    "# Tiempo que se requiere para ajustar el modelo\n",
    "(end - start).seconds"
   ]
  },
  {
   "cell_type": "code",
   "execution_count": 9,
   "id": "f0f6f2df",
   "metadata": {},
   "outputs": [],
   "source": [
    "# Valores predichos por el modelo\n",
    "y_pred_train = ensamble_bag.predict(x_train)\n",
    "y_pred_test = ensamble_bag.predict(x_test)\n",
    "\n",
    "# Calcular el error para el conjunto de entrenamiento y prueba\n",
    "error_train = mean_absolute_error(y_train, y_pred_train)\n",
    "error_test = mean_absolute_error(y_test, y_pred_test)"
   ]
  },
  {
   "cell_type": "code",
   "execution_count": 10,
   "id": "e3329a0a",
   "metadata": {},
   "outputs": [
    {
     "name": "stdout",
     "output_type": "stream",
     "text": [
      "MAE del conjunto de entrenamiento: 0.0643757\n",
      "MAE del conjunto de prueba: 0.0759289\n"
     ]
    }
   ],
   "source": [
    "# Se observa al aplicar un modelo ensamble con boosting con sus parámetros por defecto\n",
    "# el MAE para el conjunto de entrenamiento es de 0.0295 y en el conjunto de pruebas es de 0.07878\n",
    "\n",
    "print('MAE del conjunto de entrenamiento: {:.7f}'.format(error_train))\n",
    "print('MAE del conjunto de prueba: {:.7f}'.format(error_test))"
   ]
  },
  {
   "cell_type": "markdown",
   "id": "bd076a87",
   "metadata": {},
   "source": [
    "### Modelo con ajuste de hiper parámetros"
   ]
  },
  {
   "cell_type": "code",
   "execution_count": 23,
   "id": "c67b2194",
   "metadata": {},
   "outputs": [],
   "source": [
    "# estimators = [\n",
    "#      ('SVM', SVR(kernel='rbf')),\n",
    "#      ('REG', LinearRegression()),\n",
    "#      ('RANDOM_FOREST', RandomForestRegressor(criterion='absolute_error', bootstrap=False)),\n",
    "#      ('XGBOOST', xg.XGBRegressor(eval_metric='mae'))\n",
    "# ]\n",
    "\n",
    "# estimators = [SVR(kernel='rbf')\n",
    "#     , LinearRegression()\n",
    "#     , RandomForestRegressor(criterion='absolute_error', bootstrap=False)\n",
    "#     , xg.XGBRegressor(eval_metric='mae')\n",
    "#     , DecisionTreeRegressor(criterion='mae')\n",
    "# ]"
   ]
  },
  {
   "cell_type": "markdown",
   "id": "a587c312",
   "metadata": {},
   "source": [
    "#### Grid search"
   ]
  },
  {
   "cell_type": "code",
   "execution_count": 18,
   "id": "d5ec7628",
   "metadata": {},
   "outputs": [],
   "source": [
    "# Crear la grilla de parámetros\n",
    "param_grid = {\n",
    "    'loss': ['absolute_error']\n",
    "    , 'n_estimators': [50, 100, 200, 500, 1000]\n",
    "    , 'subsample': [0.1, 0.3, 0.5, 0.7, 0.9]\n",
    "    , 'min_samples_leaf': [2, 5, 10]\n",
    "    , 'min_samples_split': [2, 5, 10]\n",
    "    , 'max_depth': [3, 5, 8, 10, 15, 20, 25, 30]\n",
    "}"
   ]
  },
  {
   "cell_type": "code",
   "execution_count": 19,
   "id": "29d362e7",
   "metadata": {},
   "outputs": [],
   "source": [
    "# Definir el modelo de ensamble\n",
    "ensamble_bag = GradientBoostingRegressor(random_state=10)"
   ]
  },
  {
   "cell_type": "code",
   "execution_count": 20,
   "id": "0aecd666",
   "metadata": {},
   "outputs": [],
   "source": [
    "grid_search = GridSearchCV(estimator = ensamble_bag\n",
    "             , param_grid = param_grid\n",
    "             , cv = 10\n",
    "             , n_jobs = -1)"
   ]
  },
  {
   "cell_type": "code",
   "execution_count": 21,
   "id": "ea63bbe3",
   "metadata": {},
   "outputs": [],
   "source": [
    "start = dt.now()\n",
    "grid_search.fit(x_train, y_train)\n",
    "end = dt.now()"
   ]
  },
  {
   "cell_type": "code",
   "execution_count": 22,
   "id": "7f4affcd",
   "metadata": {},
   "outputs": [
    {
     "data": {
      "text/plain": [
       "4"
      ]
     },
     "execution_count": 22,
     "metadata": {},
     "output_type": "execute_result"
    }
   ],
   "source": [
    "# Tiempo que se requiere para ajustar el modelo\n",
    "(end - start).seconds"
   ]
  },
  {
   "cell_type": "code",
   "execution_count": 23,
   "id": "0866d7c6",
   "metadata": {},
   "outputs": [
    {
     "data": {
      "text/plain": [
       "{'learning_rate': 0.01,\n",
       " 'loss': 'absolute_error',\n",
       " 'max_depth': 3,\n",
       " 'min_samples_leaf': 2,\n",
       " 'min_samples_split': 2,\n",
       " 'n_estimators': 50,\n",
       " 'subsample': 0.1}"
      ]
     },
     "execution_count": 23,
     "metadata": {},
     "output_type": "execute_result"
    }
   ],
   "source": [
    "grid_search.best_params_"
   ]
  },
  {
   "cell_type": "code",
   "execution_count": 25,
   "id": "6e43dcd4",
   "metadata": {},
   "outputs": [],
   "source": [
    "best_grid = grid_search.best_estimator_"
   ]
  },
  {
   "cell_type": "code",
   "execution_count": 26,
   "id": "b9ece296",
   "metadata": {},
   "outputs": [
    {
     "data": {
      "text/plain": [
       "['resultados/ensamble_boosting_grid.pkl']"
      ]
     },
     "execution_count": 26,
     "metadata": {},
     "output_type": "execute_result"
    }
   ],
   "source": [
    "joblib.dump(best_grid, 'resultados/ensamble_boosting_grid.pkl')"
   ]
  },
  {
   "cell_type": "code",
   "execution_count": 27,
   "id": "d2134079",
   "metadata": {},
   "outputs": [],
   "source": [
    "# Valores predichos por el modelo\n",
    "y_pred_train_grid = best_grid.predict(x_train)\n",
    "y_pred_test_grid = best_grid.predict(x_test)\n",
    "\n",
    "# Calcular el error para el conjunto de entrenamiento y prueba\n",
    "error_train_grid = mean_absolute_error(y_train, y_pred_train_grid)\n",
    "error_test_grid = mean_absolute_error(y_test, y_pred_test_grid)"
   ]
  },
  {
   "cell_type": "code",
   "execution_count": 28,
   "id": "deaca9bc",
   "metadata": {},
   "outputs": [
    {
     "name": "stdout",
     "output_type": "stream",
     "text": [
      "MAE del conjunto de entrenamiento: 0.1148050\n",
      "MAE del conjunto de prueba: 0.1059305\n"
     ]
    }
   ],
   "source": [
    "# Se observa al aplicar un modelo ensamble con bagging con un ajuste de hiper parámetros\n",
    "# el MAE para el conjunto de entrenamiento es de 0.0421 y en el conjunto de pruebas es de 0.065\n",
    "\n",
    "print('MAE del conjunto de entrenamiento: {:.7f}'.format(error_train_grid))\n",
    "print('MAE del conjunto de prueba: {:.7f}'.format(error_test_grid))"
   ]
  },
  {
   "cell_type": "markdown",
   "id": "5eb8e90d",
   "metadata": {},
   "source": [
    "#### Optimización bayesiana"
   ]
  },
  {
   "cell_type": "code",
   "execution_count": 41,
   "id": "348a5c40",
   "metadata": {},
   "outputs": [],
   "source": [
    "def optimize(search_space):\n",
    "    model = GradientBoostingRegressor(**search_space)\n",
    "    scores = cross_val_score(model, X=x_train, y=y_train, cv=10, scoring='neg_mean_absolute_error').mean()\n",
    "    \n",
    "    return {'loss':scores, 'status': STATUS_OK, 'model': model}"
   ]
  },
  {
   "cell_type": "code",
   "execution_count": 59,
   "id": "7c34e667",
   "metadata": {},
   "outputs": [],
   "source": [
    "search_space = {\n",
    "    'loss': 'absolute_error'\n",
    "    , 'n_estimators' : ho_scope.int(hp.quniform('n_estimators', 10, 1000, 1))\n",
    "    , 'min_samples_leaf': ho_scope.int(hp.quniform('min_samples_leaf', 2, 10, 1))\n",
    "    , 'min_samples_split' : ho_scope.int(hp.quniform('min_samples_split', 2, 10, 1))\n",
    "    , 'max_depth': hp.quniform('max_depth', 3, 30, 1)\n",
    "    , 'subsample': hp.quniform('subsample', 0.1, 0.9, 0.1)\n",
    "#     , 'learning_rate': hp.quniform('learning_rate', 0.01, 10, 0.05)\n",
    "}\n",
    "\n",
    "optimization_function = partial(\n",
    "    optimize\n",
    ")"
   ]
  },
  {
   "cell_type": "code",
   "execution_count": 60,
   "id": "ad01a689",
   "metadata": {},
   "outputs": [
    {
     "name": "stdout",
     "output_type": "stream",
     "text": [
      "100%|████████████████████████████████████████| 5/5 [05:20<00:00, 64.19s/trial, best loss: -0.08316733252588646]\n"
     ]
    }
   ],
   "source": [
    "trials = Trials()\n",
    "start = dt.now()\n",
    "\n",
    "result = fmin(\n",
    "    fn = optimization_function\n",
    "    , space = search_space\n",
    "    , max_evals = 100\n",
    "    , trials=trials\n",
    "    , algo = tpe.suggest\n",
    ")\n",
    "\n",
    "end = dt.now()"
   ]
  },
  {
   "cell_type": "code",
   "execution_count": 61,
   "id": "4607cab9",
   "metadata": {},
   "outputs": [
    {
     "data": {
      "text/plain": [
       "320"
      ]
     },
     "execution_count": 61,
     "metadata": {},
     "output_type": "execute_result"
    }
   ],
   "source": [
    "# Tiempo que se requiere para ajustar el modelo\n",
    "(end - start).seconds"
   ]
  },
  {
   "cell_type": "code",
   "execution_count": 62,
   "id": "365af616",
   "metadata": {},
   "outputs": [
    {
     "name": "stdout",
     "output_type": "stream",
     "text": [
      "{'loss': 'absolute_error', 'max_depth': 20.0, 'min_samples_leaf': 6, 'min_samples_split': 2, 'n_estimators': 971, 'subsample': 0.4}\n"
     ]
    }
   ],
   "source": [
    "print(space_eval(search_space, result))"
   ]
  },
  {
   "cell_type": "code",
   "execution_count": 63,
   "id": "09950b91",
   "metadata": {},
   "outputs": [],
   "source": [
    "best_model_bo = trials.best_trial['result']['model']"
   ]
  },
  {
   "cell_type": "code",
   "execution_count": 64,
   "id": "a92cc899",
   "metadata": {},
   "outputs": [
    {
     "data": {
      "text/plain": [
       "['resultados/ensamble_boosting_bo.pkl']"
      ]
     },
     "execution_count": 64,
     "metadata": {},
     "output_type": "execute_result"
    }
   ],
   "source": [
    "joblib.dump(best_model_bo, 'resultados/ensamble_boosting_bo.pkl')"
   ]
  },
  {
   "cell_type": "code",
   "execution_count": 65,
   "id": "0a03415a",
   "metadata": {},
   "outputs": [
    {
     "data": {
      "text/plain": [
       "GradientBoostingRegressor(loss='absolute_error', max_depth=20.0,\n",
       "                          min_samples_leaf=6, n_estimators=971, subsample=0.4)"
      ]
     },
     "execution_count": 65,
     "metadata": {},
     "output_type": "execute_result"
    }
   ],
   "source": [
    "best_model_bo.fit(x_train, y_train)"
   ]
  },
  {
   "cell_type": "code",
   "execution_count": 66,
   "id": "ca6a9995",
   "metadata": {},
   "outputs": [
    {
     "name": "stdout",
     "output_type": "stream",
     "text": [
      "MAE del conjunto de entrenamiento: 0.0186384\n",
      "MAE del conjunto de prueba: 0.0769835\n"
     ]
    }
   ],
   "source": [
    "# Valores predichos por el modelo\n",
    "y_pred_train_bo = best_model_bo.predict(x_train)\n",
    "y_pred_test_bo = best_model_bo.predict(x_test)\n",
    "\n",
    "# Calcular el error para el conjunto de entrenamiento y prueba\n",
    "error_train_bo = mean_absolute_error(y_train, y_pred_train_bo)\n",
    "error_test_bo = mean_absolute_error(y_test, y_pred_test_bo)\n",
    "\n",
    "print('MAE del conjunto de entrenamiento: {:.7f}'.format(error_train_bo))\n",
    "print('MAE del conjunto de prueba: {:.7f}'.format(error_test_bo))"
   ]
  },
  {
   "cell_type": "code",
   "execution_count": 67,
   "id": "88887050",
   "metadata": {},
   "outputs": [],
   "source": [
    "# trials.losses()"
   ]
  },
  {
   "cell_type": "code",
   "execution_count": 68,
   "id": "5a6be9ce",
   "metadata": {},
   "outputs": [
    {
     "data": {
      "text/plain": [
       "['resultados/ensamble_boosting_bo_trials.pkl']"
      ]
     },
     "execution_count": 68,
     "metadata": {},
     "output_type": "execute_result"
    }
   ],
   "source": [
    "joblib.dump(trials, 'resultados/ensamble_boosting_bo_trials.pkl')"
   ]
  },
  {
   "cell_type": "code",
   "execution_count": null,
   "id": "d0a87ea4",
   "metadata": {},
   "outputs": [],
   "source": []
  }
 ],
 "metadata": {
  "kernelspec": {
   "display_name": "Python 3 (ipykernel)",
   "language": "python",
   "name": "python3"
  },
  "language_info": {
   "codemirror_mode": {
    "name": "ipython",
    "version": 3
   },
   "file_extension": ".py",
   "mimetype": "text/x-python",
   "name": "python",
   "nbconvert_exporter": "python",
   "pygments_lexer": "ipython3",
   "version": "3.10.1"
  }
 },
 "nbformat": 4,
 "nbformat_minor": 5
}
